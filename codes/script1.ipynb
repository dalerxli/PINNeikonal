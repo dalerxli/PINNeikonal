{
 "cells": [
  {
   "cell_type": "markdown",
   "metadata": {
    "colab_type": "text",
    "id": "iL2fPUI4LJnt"
   },
   "source": [
    "## **Systematic study of the effect of the numbers of layers and neurons on the traveltime accuracy**"
   ]
  },
  {
   "cell_type": "code",
   "execution_count": 1,
   "metadata": {
    "colab": {
     "base_uri": "https://localhost:8080/",
     "height": 123
    },
    "colab_type": "code",
    "executionInfo": {
     "elapsed": 8552,
     "status": "ok",
     "timestamp": 1595929276657,
     "user": {
      "displayName": "Umair bin Waheed",
      "photoUrl": "https://lh3.googleusercontent.com/a-/AOh14Gjqim6lA6I3m073KKV1QGaclFO3cGZY8egrRo3a=s64",
      "userId": "00809387776046207752"
     },
     "user_tz": -180
    },
    "id": "FPKGPC2LumD_",
    "outputId": "c8d9e89e-e5fb-4cff-d567-f1f9ec91f177"
   },
   "outputs": [
    {
     "name": "stderr",
     "output_type": "stream",
     "text": [
      "Using TensorFlow backend.\n"
     ]
    },
    {
     "name": "stdout",
     "output_type": "stream",
     "text": [
      "---------------------- SCIANN 0.4.6.2 ---------------------- \n",
      "For details, check out our review paper and the documentation at: \n",
      " +  \"https://arxiv.org/abs/2005.08803\", \n",
      " +  \"https://www.sciann.com\". \n",
      "\n"
     ]
    }
   ],
   "source": [
    "import numpy as np\n",
    "import pandas as pd\n",
    "import matplotlib.pyplot as plt\n",
    "import tensorflow as tf\n",
    "from sciann import Functional, Variable, SciModel\n",
    "from sciann.utils import *\n",
    "import scipy.io \n",
    "import time\n",
    "import random\n",
    "\n",
    "tf.config.threading.set_intra_op_parallelism_threads(1)\n",
    "tf.config.threading.set_inter_op_parallelism_threads(1)"
   ]
  },
  {
   "cell_type": "code",
   "execution_count": 2,
   "metadata": {
    "colab": {},
    "colab_type": "code",
    "executionInfo": {
     "elapsed": 8550,
     "status": "ok",
     "timestamp": 1595929276658,
     "user": {
      "displayName": "Umair bin Waheed",
      "photoUrl": "https://lh3.googleusercontent.com/a-/AOh14Gjqim6lA6I3m073KKV1QGaclFO3cGZY8egrRo3a=s64",
      "userId": "00809387776046207752"
     },
     "user_tz": -180
    },
    "id": "3VbK2Wn8Z6pa"
   },
   "outputs": [],
   "source": [
    "#Model specifications\n",
    "\n",
    "\n",
    "v0 = 2.; # Velocity at the origin of the model\n",
    "vergrad = 0.5; # Vertical gradient\n",
    "horgrad = 0.; # Horizontal gradient\n",
    "\n",
    "zmin = 0.; zmax = 2.; deltaz = 0.04;\n",
    "xmin = 0.; xmax = 2.; deltax = 0.04;\n",
    "\n",
    "\n",
    "# Point-source location\n",
    "sz = 1.; sx = 1.;"
   ]
  },
  {
   "cell_type": "code",
   "execution_count": 3,
   "metadata": {
    "colab": {},
    "colab_type": "code",
    "executionInfo": {
     "elapsed": 8548,
     "status": "ok",
     "timestamp": 1595929276659,
     "user": {
      "displayName": "Umair bin Waheed",
      "photoUrl": "https://lh3.googleusercontent.com/a-/AOh14Gjqim6lA6I3m073KKV1QGaclFO3cGZY8egrRo3a=s64",
      "userId": "00809387776046207752"
     },
     "user_tz": -180
    },
    "id": "dFHCemaau4Bv"
   },
   "outputs": [],
   "source": [
    "np.random.seed(123)\n",
    "tf.random.set_seed(123)"
   ]
  },
  {
   "cell_type": "code",
   "execution_count": 4,
   "metadata": {
    "colab": {},
    "colab_type": "code",
    "executionInfo": {
     "elapsed": 8546,
     "status": "ok",
     "timestamp": 1595929276660,
     "user": {
      "displayName": "Umair bin Waheed",
      "photoUrl": "https://lh3.googleusercontent.com/a-/AOh14Gjqim6lA6I3m073KKV1QGaclFO3cGZY8egrRo3a=s64",
      "userId": "00809387776046207752"
     },
     "user_tz": -180
    },
    "id": "PXwV6YzUYisV"
   },
   "outputs": [],
   "source": [
    "# Creating grid, calculating refrence traveltimes, and prepare list of grid points for training (X_star)\n",
    "\n",
    "z = np.arange(zmin,zmax+deltaz,deltaz)\n",
    "nz = z.size\n",
    "\n",
    "x = np.arange(xmin,xmax+deltax,deltax)\n",
    "nx = x.size\n",
    "\n",
    "\n",
    "Z,X = np.meshgrid(z,x,indexing='ij')\n",
    "\n",
    "# Preparing velocity model\n",
    "vs = v0 + vergrad*sz + horgrad*sx # Velocity at the source location\n",
    "velmodel = vs + vergrad*(Z-sz) + horgrad*(X-sx);\n",
    "\n",
    "# Traveltime solution\n",
    "if vergrad==0 and horgrad==0: \n",
    "  # For homogeneous velocity model\n",
    "  T_data = np.sqrt((Z-sz)**2 + (X-sx)**2)/v0;\n",
    "else: \n",
    "  # For velocity gradient model\n",
    "  T_data = np.arccosh(1.0+0.5*(1.0/velmodel)*(1/vs)*(vergrad**2 + horgrad**2)*((X-sx)**2 + (Z-sz)**2))/np.sqrt(vergrad**2 + horgrad**2)\n",
    "\n",
    "\n",
    "X_star = [Z.reshape(-1,1), X.reshape(-1,1)]"
   ]
  },
  {
   "cell_type": "code",
   "execution_count": 5,
   "metadata": {
    "colab": {},
    "colab_type": "code",
    "executionInfo": {
     "elapsed": 8515,
     "status": "ok",
     "timestamp": 1595929276661,
     "user": {
      "displayName": "Umair bin Waheed",
      "photoUrl": "https://lh3.googleusercontent.com/a-/AOh14Gjqim6lA6I3m073KKV1QGaclFO3cGZY8egrRo3a=s64",
      "userId": "00809387776046207752"
     },
     "user_tz": -180
    },
    "id": "m_uAMRGewCmc"
   },
   "outputs": [],
   "source": [
    "# Analytical solution for the known traveltime part\n",
    "vel = velmodel[round(sz/deltaz),round(sx/deltax)]\n",
    "\n",
    "T0 = np.sqrt((Z-sz)**2 + (X-sx)**2)/vel; \n",
    "\n",
    "px0 = np.divide(X-sx, T0*vel**2, out=np.zeros_like(T0), where=T0!=0)\n",
    "pz0 = np.divide(Z-sz, T0*vel**2, out=np.zeros_like(T0), where=T0!=0)"
   ]
  },
  {
   "cell_type": "code",
   "execution_count": 6,
   "metadata": {
    "colab": {
     "base_uri": "https://localhost:8080/",
     "height": 87
    },
    "colab_type": "code",
    "executionInfo": {
     "elapsed": 8501,
     "status": "ok",
     "timestamp": 1595929276662,
     "user": {
      "displayName": "Umair bin Waheed",
      "photoUrl": "https://lh3.googleusercontent.com/a-/AOh14Gjqim6lA6I3m073KKV1QGaclFO3cGZY8egrRo3a=s64",
      "userId": "00809387776046207752"
     },
     "user_tz": -180
    },
    "id": "bKWNNkwZxVC_",
    "outputId": "62f1d709-bc04-4b14-8124-f3ff25518cd6"
   },
   "outputs": [
    {
     "name": "stdout",
     "output_type": "stream",
     "text": [
      "[1300]\n",
      "(1,)\n",
      "[1.]\n",
      "[1.]\n"
     ]
    }
   ],
   "source": [
    "# Find source location id in X_star\n",
    "\n",
    "TOLX = 1e-6\n",
    "TOLZ = 1e-6\n",
    "\n",
    "sids,_ = np.where(np.logical_and(np.abs(X_star[0]-sz)<TOLZ , np.abs(X_star[1]-sx)<TOLX))\n",
    "\n",
    "print(sids)\n",
    "print(sids.shape)\n",
    "print(X_star[0][sids,0])\n",
    "print(X_star[1][sids,0])"
   ]
  },
  {
   "cell_type": "code",
   "execution_count": 7,
   "metadata": {
    "colab": {
     "base_uri": "https://localhost:8080/",
     "height": 514
    },
    "colab_type": "code",
    "id": "iLqwKuV9xY5t",
    "outputId": "b7cabf1a-86ba-48a2-8dd5-c91aef81959b"
   },
   "outputs": [
    {
     "name": "stdout",
     "output_type": "stream",
     "text": [
      "row=0, column=0\n",
      "\n",
      "Epoch 16966: ReduceLROnPlateau reducing learning rate to 0.0001.\n",
      "\n",
      "Epoch 22965: ReduceLROnPlateau reducing learning rate to 5e-05.\n",
      "\n",
      "Epoch 28964: ReduceLROnPlateau reducing learning rate to 2.5e-05.\n",
      "Training time: 2.63 minutes\n",
      "Time at source: 1.0015\n",
      "row=0, column=1\n",
      "\n",
      "Epoch 11680: ReduceLROnPlateau reducing learning rate to 0.0001.\n",
      "\n",
      "Epoch 20254: ReduceLROnPlateau reducing learning rate to 5e-05.\n",
      "\n",
      "Epoch 26253: ReduceLROnPlateau reducing learning rate to 2.5e-05.\n",
      "Training time: 2.75 minutes\n",
      "Time at source: 1.0000\n",
      "row=0, column=2\n",
      "\n",
      "Epoch 11473: ReduceLROnPlateau reducing learning rate to 0.0001.\n",
      "\n",
      "Epoch 17472: ReduceLROnPlateau reducing learning rate to 5e-05.\n",
      "\n",
      "Epoch 23471: ReduceLROnPlateau reducing learning rate to 2.5e-05.\n",
      "\n",
      "Epoch 29470: ReduceLROnPlateau reducing learning rate to 1.25e-05.\n",
      "Training time: 3.20 minutes\n",
      "Time at source: 1.0000\n",
      "row=0, column=3\n",
      "\n",
      "Epoch 17983: ReduceLROnPlateau reducing learning rate to 0.0001.\n",
      "\n",
      "Epoch 23982: ReduceLROnPlateau reducing learning rate to 5e-05.\n",
      "\n",
      "Epoch 29981: ReduceLROnPlateau reducing learning rate to 2.5e-05.\n",
      "Training time: 3.12 minutes\n",
      "Time at source: 1.0000\n",
      "row=0, column=4\n",
      "\n",
      "Epoch 08179: ReduceLROnPlateau reducing learning rate to 0.0001.\n",
      "\n",
      "Epoch 14178: ReduceLROnPlateau reducing learning rate to 5e-05.\n",
      "\n",
      "Epoch 20177: ReduceLROnPlateau reducing learning rate to 2.5e-05.\n",
      "\n",
      "Epoch 26176: ReduceLROnPlateau reducing learning rate to 1.25e-05.\n",
      "Training time: 3.56 minutes\n",
      "Time at source: 1.0000\n",
      "row=1, column=0\n",
      "\n",
      "Epoch 11533: ReduceLROnPlateau reducing learning rate to 0.0001.\n",
      "\n",
      "Epoch 17532: ReduceLROnPlateau reducing learning rate to 5e-05.\n",
      "\n",
      "Epoch 23531: ReduceLROnPlateau reducing learning rate to 2.5e-05.\n",
      "\n",
      "Epoch 29530: ReduceLROnPlateau reducing learning rate to 1.25e-05.\n",
      "Training time: 2.96 minutes\n",
      "Time at source: 0.9999\n",
      "row=1, column=1\n",
      "\n",
      "Epoch 08334: ReduceLROnPlateau reducing learning rate to 0.0001.\n",
      "\n",
      "Epoch 14333: ReduceLROnPlateau reducing learning rate to 5e-05.\n",
      "\n",
      "Epoch 20332: ReduceLROnPlateau reducing learning rate to 2.5e-05.\n",
      "\n",
      "Epoch 26331: ReduceLROnPlateau reducing learning rate to 1.25e-05.\n",
      "Training time: 3.36 minutes\n",
      "Time at source: 1.0000\n",
      "row=1, column=2\n",
      "\n",
      "Epoch 07234: ReduceLROnPlateau reducing learning rate to 0.0001.\n",
      "\n",
      "Epoch 13233: ReduceLROnPlateau reducing learning rate to 5e-05.\n",
      "\n",
      "Epoch 19232: ReduceLROnPlateau reducing learning rate to 2.5e-05.\n",
      "\n",
      "Epoch 25231: ReduceLROnPlateau reducing learning rate to 1.25e-05.\n",
      "Training time: 3.85 minutes\n",
      "Time at source: 1.0000\n",
      "row=1, column=3\n",
      "\n",
      "Epoch 08684: ReduceLROnPlateau reducing learning rate to 0.0001.\n",
      "\n",
      "Epoch 14683: ReduceLROnPlateau reducing learning rate to 5e-05.\n",
      "\n",
      "Epoch 20682: ReduceLROnPlateau reducing learning rate to 2.5e-05.\n",
      "\n",
      "Epoch 26681: ReduceLROnPlateau reducing learning rate to 1.25e-05.\n",
      "Training time: 4.06 minutes\n",
      "Time at source: 1.0000\n",
      "row=1, column=4\n",
      "\n",
      "Epoch 05499: ReduceLROnPlateau reducing learning rate to 0.0001.\n",
      "\n",
      "Epoch 11498: ReduceLROnPlateau reducing learning rate to 5e-05.\n",
      "\n",
      "Epoch 17497: ReduceLROnPlateau reducing learning rate to 2.5e-05.\n",
      "\n",
      "Epoch 23496: ReduceLROnPlateau reducing learning rate to 1.25e-05.\n",
      "\n",
      "Epoch 29495: ReduceLROnPlateau reducing learning rate to 6.25e-06.\n",
      "Training time: 4.79 minutes\n",
      "Time at source: 1.0000\n",
      "row=2, column=0\n",
      "\n",
      "Epoch 04578: ReduceLROnPlateau reducing learning rate to 0.0001.\n",
      "\n",
      "Epoch 12076: ReduceLROnPlateau reducing learning rate to 5e-05.\n",
      "\n",
      "Epoch 18075: ReduceLROnPlateau reducing learning rate to 2.5e-05.\n",
      "\n",
      "Epoch 24074: ReduceLROnPlateau reducing learning rate to 1.25e-05.\n",
      "Training time: 3.52 minutes\n",
      "Time at source: 0.9999\n",
      "row=2, column=1\n",
      "\n",
      "Epoch 08741: ReduceLROnPlateau reducing learning rate to 0.0001.\n",
      "\n",
      "Epoch 14740: ReduceLROnPlateau reducing learning rate to 5e-05.\n",
      "\n",
      "Epoch 20739: ReduceLROnPlateau reducing learning rate to 2.5e-05.\n",
      "\n",
      "Epoch 26738: ReduceLROnPlateau reducing learning rate to 1.25e-05.\n",
      "Training time: 4.00 minutes\n",
      "Time at source: 1.0000\n",
      "row=2, column=2\n",
      "\n",
      "Epoch 06502: ReduceLROnPlateau reducing learning rate to 0.0001.\n",
      "\n",
      "Epoch 12501: ReduceLROnPlateau reducing learning rate to 5e-05.\n",
      "\n",
      "Epoch 18500: ReduceLROnPlateau reducing learning rate to 2.5e-05.\n",
      "\n",
      "Epoch 24499: ReduceLROnPlateau reducing learning rate to 1.25e-05.\n",
      "Training time: 5.04 minutes\n",
      "Time at source: 1.0000\n",
      "row=2, column=3\n",
      "\n",
      "Epoch 05289: ReduceLROnPlateau reducing learning rate to 0.0001.\n",
      "\n",
      "Epoch 11288: ReduceLROnPlateau reducing learning rate to 5e-05.\n",
      "\n",
      "Epoch 17287: ReduceLROnPlateau reducing learning rate to 2.5e-05.\n",
      "\n",
      "Epoch 23286: ReduceLROnPlateau reducing learning rate to 1.25e-05.\n",
      "\n",
      "Epoch 29285: ReduceLROnPlateau reducing learning rate to 6.25e-06.\n",
      "Training time: 5.48 minutes\n",
      "Time at source: 1.0000\n",
      "row=2, column=4\n",
      "\n",
      "Epoch 05742: ReduceLROnPlateau reducing learning rate to 0.0001.\n",
      "\n",
      "Epoch 11741: ReduceLROnPlateau reducing learning rate to 5e-05.\n",
      "\n",
      "Epoch 17740: ReduceLROnPlateau reducing learning rate to 2.5e-05.\n",
      "\n",
      "Epoch 23739: ReduceLROnPlateau reducing learning rate to 1.25e-05.\n",
      "\n",
      "Epoch 29738: ReduceLROnPlateau reducing learning rate to 6.25e-06.\n",
      "Training time: 6.77 minutes\n",
      "Time at source: 1.0000\n",
      "row=3, column=0\n",
      "\n",
      "Epoch 09490: ReduceLROnPlateau reducing learning rate to 0.0001.\n",
      "\n",
      "Epoch 15489: ReduceLROnPlateau reducing learning rate to 5e-05.\n",
      "\n",
      "Epoch 21488: ReduceLROnPlateau reducing learning rate to 2.5e-05.\n",
      "\n",
      "Epoch 27487: ReduceLROnPlateau reducing learning rate to 1.25e-05.\n",
      "Training time: 3.93 minutes\n",
      "Time at source: 0.9999\n",
      "row=3, column=1\n",
      "\n",
      "Epoch 08173: ReduceLROnPlateau reducing learning rate to 0.0001.\n",
      "\n",
      "Epoch 14172: ReduceLROnPlateau reducing learning rate to 5e-05.\n",
      "\n",
      "Epoch 20171: ReduceLROnPlateau reducing learning rate to 2.5e-05.\n",
      "\n",
      "Epoch 26170: ReduceLROnPlateau reducing learning rate to 1.25e-05.\n",
      "Training time: 4.98 minutes\n",
      "Time at source: 1.0000\n",
      "row=3, column=2\n",
      "\n",
      "Epoch 08669: ReduceLROnPlateau reducing learning rate to 0.0001.\n",
      "\n",
      "Epoch 14668: ReduceLROnPlateau reducing learning rate to 5e-05.\n",
      "\n",
      "Epoch 20667: ReduceLROnPlateau reducing learning rate to 2.5e-05.\n",
      "\n",
      "Epoch 26666: ReduceLROnPlateau reducing learning rate to 1.25e-05.\n",
      "Training time: 6.27 minutes\n",
      "Time at source: 1.0000\n",
      "row=3, column=3\n",
      "\n",
      "Epoch 04865: ReduceLROnPlateau reducing learning rate to 0.0001.\n",
      "\n",
      "Epoch 10864: ReduceLROnPlateau reducing learning rate to 5e-05.\n",
      "\n",
      "Epoch 16863: ReduceLROnPlateau reducing learning rate to 2.5e-05.\n",
      "\n",
      "Epoch 22862: ReduceLROnPlateau reducing learning rate to 1.25e-05.\n",
      "\n",
      "Epoch 28861: ReduceLROnPlateau reducing learning rate to 6.25e-06.\n",
      "Training time: 6.68 minutes\n",
      "Time at source: 1.0000\n",
      "row=3, column=4\n",
      "\n",
      "Epoch 04308: ReduceLROnPlateau reducing learning rate to 0.0001.\n",
      "\n",
      "Epoch 10307: ReduceLROnPlateau reducing learning rate to 5e-05.\n",
      "\n",
      "Epoch 16306: ReduceLROnPlateau reducing learning rate to 2.5e-05.\n",
      "\n",
      "Epoch 22305: ReduceLROnPlateau reducing learning rate to 1.25e-05.\n",
      "\n",
      "Epoch 28304: ReduceLROnPlateau reducing learning rate to 6.25e-06.\n",
      "Training time: 8.23 minutes\n",
      "Time at source: 1.0000\n",
      "row=4, column=0\n",
      "\n",
      "Epoch 04347: ReduceLROnPlateau reducing learning rate to 0.0001.\n",
      "\n",
      "Epoch 12510: ReduceLROnPlateau reducing learning rate to 5e-05.\n",
      "\n",
      "Epoch 18509: ReduceLROnPlateau reducing learning rate to 2.5e-05.\n",
      "\n",
      "Epoch 24508: ReduceLROnPlateau reducing learning rate to 1.25e-05.\n",
      "Training time: 4.80 minutes\n",
      "Time at source: 0.9999\n",
      "row=4, column=1\n",
      "\n",
      "Epoch 05529: ReduceLROnPlateau reducing learning rate to 0.0001.\n",
      "\n",
      "Epoch 11528: ReduceLROnPlateau reducing learning rate to 5e-05.\n",
      "\n",
      "Epoch 17527: ReduceLROnPlateau reducing learning rate to 2.5e-05.\n",
      "\n",
      "Epoch 23526: ReduceLROnPlateau reducing learning rate to 1.25e-05.\n",
      "\n",
      "Epoch 29525: ReduceLROnPlateau reducing learning rate to 6.25e-06.\n",
      "Training time: 5.78 minutes\n",
      "Time at source: 1.0000\n",
      "row=4, column=2\n",
      "\n",
      "Epoch 06188: ReduceLROnPlateau reducing learning rate to 0.0001.\n",
      "\n",
      "Epoch 12187: ReduceLROnPlateau reducing learning rate to 5e-05.\n",
      "\n",
      "Epoch 18186: ReduceLROnPlateau reducing learning rate to 2.5e-05.\n",
      "\n",
      "Epoch 24185: ReduceLROnPlateau reducing learning rate to 1.25e-05.\n",
      "Training time: 7.12 minutes\n",
      "Time at source: 1.0000\n",
      "row=4, column=3\n",
      "\n",
      "Epoch 04251: ReduceLROnPlateau reducing learning rate to 0.0001.\n",
      "\n",
      "Epoch 10250: ReduceLROnPlateau reducing learning rate to 5e-05.\n",
      "\n",
      "Epoch 16249: ReduceLROnPlateau reducing learning rate to 2.5e-05.\n",
      "\n",
      "Epoch 22248: ReduceLROnPlateau reducing learning rate to 1.25e-05.\n",
      "\n",
      "Epoch 28247: ReduceLROnPlateau reducing learning rate to 6.25e-06.\n"
     ]
    },
    {
     "name": "stdout",
     "output_type": "stream",
     "text": [
      "Training time: 7.86 minutes\n",
      "Time at source: 1.0000\n",
      "row=4, column=4\n",
      "\n",
      "Epoch 04571: ReduceLROnPlateau reducing learning rate to 0.0001.\n",
      "\n",
      "Epoch 10570: ReduceLROnPlateau reducing learning rate to 5e-05.\n",
      "\n",
      "Epoch 16569: ReduceLROnPlateau reducing learning rate to 2.5e-05.\n",
      "\n",
      "Epoch 22568: ReduceLROnPlateau reducing learning rate to 1.25e-05.\n",
      "\n",
      "Epoch 28567: ReduceLROnPlateau reducing learning rate to 6.25e-06.\n",
      "Training time: 9.90 minutes\n",
      "Time at source: 1.0000\n"
     ]
    }
   ],
   "source": [
    "layers_list = [2,4,6,8,10]\n",
    "neurons_list = [2,4,6,8,10]\n",
    "\n",
    "l2error = np.zeros((len(layers_list),len(neurons_list))) \n",
    "rel_l2error = np.zeros((len(layers_list),len(neurons_list))) \n",
    "\n",
    "for rcount,num_layers in enumerate(layers_list): \n",
    "  for ccount,num_neurons in enumerate(neurons_list): \n",
    "    \n",
    "    print(\"row=%d, column=%d\"%(rcount,ccount))\n",
    "\n",
    "    tf.random.set_seed(123)  \n",
    "\n",
    "    # Preparing the Sciann model object\n",
    "\n",
    "    K.clear_session() \n",
    "    layers = [num_neurons]*num_layers\n",
    "\n",
    "    xt = Variable(\"xt\",dtype='float64')\n",
    "    zt = Variable(\"zt\",dtype='float64')\n",
    "    vt = Variable(\"vt\",dtype='float64')\n",
    "    px0t = Variable(\"px0t\",dtype='float64')\n",
    "    pz0t = Variable(\"pz0t\",dtype='float64')\n",
    "    T0t = Variable(\"T0t\",dtype='float64')\n",
    "\n",
    "    tau = Functional(\"tau\", [zt, xt], layers, 'atan')\n",
    "\n",
    "    # Loss function based on the factored isotropic eikonal equation\n",
    "    L = (T0t*diff(tau, xt) + tau*px0t)**2 + (T0t*diff(tau, zt) + tau*pz0t)**2 - 1.0/vt**2\n",
    "\n",
    "    targets = [tau, L, (1-sign(tau*T0t))*abs(tau*T0t)]\n",
    "    target_vals = [(sids, np.ones(sids.shape).reshape(-1,1)), 'zeros', 'zeros']\n",
    "\n",
    "    model = SciModel(\n",
    "        [zt, xt, vt, pz0t, px0t, T0t], \n",
    "        targets\n",
    "        )\n",
    "\n",
    "    #Model training\n",
    "\n",
    "    start_time = time.time()\n",
    "    hist = model.train(\n",
    "          X_star + [velmodel,pz0,px0,T0],\n",
    "          target_vals,\n",
    "          batch_size = X_star[0].size,\n",
    "          epochs = 30000,\n",
    "          learning_rate = 0.0002,\n",
    "          verbose=0\n",
    "          )\n",
    "    elapsed = time.time() - start_time\n",
    "    print('Training time: %.2f minutes' %(elapsed/60.))\n",
    "\n",
    "    # Predicting traveltime solution from the trained model\n",
    "\n",
    "    L_pred = L.eval(model, X_star + [velmodel,pz0,px0,T0])\n",
    "    tau_pred = tau.eval(model, X_star + [velmodel,pz0,px0,T0])\n",
    "    tau_pred = tau_pred.reshape(Z.shape)\n",
    "\n",
    "    T_pred = tau_pred*T0\n",
    "\n",
    "    print('Time at source: %.4f'%(tau_pred[round(sz/deltaz),round(sx/deltax)]))\n",
    "\n",
    "    l2error[rcount,ccount] = np.linalg.norm(T_pred-T_data)\n",
    "    rel_l2error[rcount,ccount] = np.linalg.norm(T_pred-T_data)/np.linalg.norm(T_data)\n"
   ]
  },
  {
   "cell_type": "code",
   "execution_count": 8,
   "metadata": {
    "colab": {},
    "colab_type": "code",
    "id": "SmnOMhrIeHmi"
   },
   "outputs": [
    {
     "name": "stdout",
     "output_type": "stream",
     "text": [
      "[[0.166067 0.025429 0.022674 0.013598 0.009014]\n",
      " [0.035319 0.024761 0.008673 0.005613 0.007149]\n",
      " [0.050591 0.014358 0.014898 0.00861  0.004431]\n",
      " [0.013312 0.00819  0.017161 0.013923 0.010156]\n",
      " [0.034101 0.005352 0.00667  0.007164 0.00543 ]]\n"
     ]
    }
   ],
   "source": [
    "# L2 error\n",
    "np.set_printoptions(precision=6)\n",
    "print(l2error)"
   ]
  },
  {
   "cell_type": "code",
   "execution_count": 9,
   "metadata": {
    "colab": {},
    "colab_type": "code",
    "id": "MbhM7ASEepWo"
   },
   "outputs": [
    {
     "name": "stdout",
     "output_type": "stream",
     "text": [
      "[[0.009697 0.001485 0.001324 0.000794 0.000526]\n",
      " [0.002062 0.001446 0.000506 0.000328 0.000417]\n",
      " [0.002954 0.000838 0.00087  0.000503 0.000259]\n",
      " [0.000777 0.000478 0.001002 0.000813 0.000593]\n",
      " [0.001991 0.000312 0.000389 0.000418 0.000317]]\n"
     ]
    }
   ],
   "source": [
    "# Relative L2 error\n",
    "print(rel_l2error)"
   ]
  }
 ],
 "metadata": {
  "accelerator": "GPU",
  "colab": {
   "collapsed_sections": [],
   "name": "script1.ipynb",
   "provenance": []
  },
  "kernelspec": {
   "display_name": "Python 3",
   "language": "python",
   "name": "python3"
  },
  "language_info": {
   "codemirror_mode": {
    "name": "ipython",
    "version": 3
   },
   "file_extension": ".py",
   "mimetype": "text/x-python",
   "name": "python",
   "nbconvert_exporter": "python",
   "pygments_lexer": "ipython3",
   "version": "3.7.3"
  }
 },
 "nbformat": 4,
 "nbformat_minor": 1
}
